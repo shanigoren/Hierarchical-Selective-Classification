{
 "cells": [
  {
   "cell_type": "markdown",
   "metadata": {},
   "source": [
    "## Comparison DARTS<->Ours on 1k Models (Section 4)"
   ]
  },
  {
   "cell_type": "code",
   "execution_count": 19,
   "metadata": {},
   "outputs": [],
   "source": [
    "import matplotlib.pyplot as plt\n",
    "import pandas as pd\n",
    "import numpy as np\n",
    "import seaborn as sns\n",
    "pd.options.mode.chained_assignment = None  # 'warn' or None for default behavior\n",
    "sns.set(style=\"whitegrid\")"
   ]
  },
  {
   "cell_type": "code",
   "execution_count": 20,
   "metadata": {},
   "outputs": [],
   "source": [
    "mean_results_file_name = 'results/thresholds/mean_results_n5000_reps1000.csv'\n",
    "mean_results_df = pd.read_csv(mean_results_file_name).dropna()"
   ]
  },
  {
   "cell_type": "code",
   "execution_count": 22,
   "metadata": {},
   "outputs": [
    {
     "name": "stdout",
     "output_type": "stream",
     "text": [
      "70 & 14.52$\\pm$1.3e-03 & 10.79$\\pm$3.1e-03 & 0.97$\\pm$1.4e-05 & 1.00$\\pm$5.0e-05 \\\\\n",
      "80 & 4.86$\\pm$5.2e-03 & 2.19$\\pm$7.0e-03 & 0.96$\\pm$5.8e-05 & 0.98$\\pm$1.0e-04 \\\\\n",
      "85 & 1.48$\\pm$7.2e-03 & 0.28$\\pm$4.7e-03 & 0.95$\\pm$1.6e-04 & 0.93$\\pm$6.2e-05 \\\\\n",
      "90 & 0.73$\\pm$9.6e-03 & 0.02$\\pm$4.0e-04 & 0.88$\\pm$9.9e-04 & 0.87$\\pm$2.9e-05 \\\\\n",
      "95 & 0.69$\\pm$1.4e-02 & 0.02$\\pm$2.2e-04 & 0.74$\\pm$2.6e-03 & 0.76$\\pm$7.4e-05 \\\\\n",
      "99 & 0.63$\\pm$4.2e-03 & 0.02$\\pm$1.1e-04 & 0.22$\\pm$2.0e-03 & 0.40$\\pm$3.2e-04 \\\\\n",
      "99.5 & 0.40$\\pm$1.9e-03 & 0.02$\\pm$7.5e-05 & 0.13$\\pm$9.8e-04 & 0.26$\\pm$2.5e-04 \\\\\n"
     ]
    }
   ],
   "source": [
    "sorted_accs = np.sort(mean_results_df['target_acc'].dropna().unique())\n",
    "n = np.sqrt(len(mean_results_df['model'].unique()))\n",
    "\n",
    "for t,a1,a2,a3,a4,a5,a6,a7,a8,a9,a10,a11,a12 in zip(sorted_accs, \\\n",
    "                mean_results_df.groupby('target_acc')['acc_err_darts_mean'].mean(), \\\n",
    "                mean_results_df.groupby('target_acc')['acc_err_darts_std'].std()/n,\n",
    "                mean_results_df.groupby('target_acc')['acc_err_ours_mean'].mean(), \\\n",
    "                mean_results_df.groupby('target_acc')['acc_err_ours_std'].std()/n,\n",
    "\n",
    "                mean_results_df.groupby('target_acc')['coverage_darts_mean'].mean(), \\\n",
    "                mean_results_df.groupby('target_acc')['coverage_darts_std'].std()/n,\n",
    "                mean_results_df.groupby('target_acc')['coverage_ours_mean'].mean(), \\\n",
    "                mean_results_df.groupby('target_acc')['coverage_ours_std'].std()/n,\n",
    "\n",
    "                mean_results_df.groupby('target_acc')['risk_hier_darts_mean'].mean(), \\\n",
    "                mean_results_df.groupby('target_acc')['risk_hier_darts_std'].std()/n,\n",
    "                mean_results_df.groupby('target_acc')['risk_hier_ours_mean'].mean(), \\\n",
    "                mean_results_df.groupby('target_acc')['risk_hier_ours_std'].std()/n,\n",
    "                ):\n",
    "    #                                   Mean Accuracy Error                                  Coverage                                         \n",
    "    # target,                           DARTS                    Ours                       DARTS                    Ours                     \n",
    "    print(f'{int(t) if t%1==0 else t} & {a1:.2f}$\\pm${a2:.1e} & {a3:.2f}$\\pm${a4:.1e} & {a5:.2f}$\\pm${a6:.1e} & {a7:.2f}$\\pm${a8:.1e} \\\\\\\\')\n",
    "    # #                  Mean Accuracy Error                                  Coverage                                         Risk\n",
    "    # # target,          DARTS                    Ours                       DARTS                    Ours                     DARTS                    Ours      \n",
    "    # print(f'{int(t) if t%1==0 else t} & {a1:.2f} $\\pm$ {a2:.1e} & {a3:.2f} $\\pm$ {a4:.1e} & {a5:.2f} $\\pm$ {a6:.1e} & {a7:.2f} $\\pm$ {a8:.1e} & {a9:.3f} $\\pm$ {a10:.1e} & {a11:.3f} $\\pm$ {a12:.1e} \\\\\\\\')"
   ]
  },
  {
   "cell_type": "code",
   "execution_count": null,
   "metadata": {},
   "outputs": [],
   "source": []
  }
 ],
 "metadata": {
  "kernelspec": {
   "display_name": "hsc",
   "language": "python",
   "name": "python3"
  },
  "language_info": {
   "codemirror_mode": {
    "name": "ipython",
    "version": 3
   },
   "file_extension": ".py",
   "mimetype": "text/x-python",
   "name": "python",
   "nbconvert_exporter": "python",
   "pygments_lexer": "ipython3",
   "version": "3.10.11"
  },
  "orig_nbformat": 4
 },
 "nbformat": 4,
 "nbformat_minor": 2
}
